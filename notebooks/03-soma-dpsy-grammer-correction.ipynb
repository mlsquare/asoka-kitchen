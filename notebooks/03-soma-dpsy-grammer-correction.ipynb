{
 "cells": [
  {
   "cell_type": "code",
   "execution_count": 1,
   "metadata": {},
   "outputs": [],
   "source": [
    "import dspy\n",
    "\n",
    "from dotenv import load_dotenv\n",
    "load_dotenv()  # take environment variables from .env.\n",
    "\n",
    "import os\n",
    "OPENAI_API_KEY = os.environ.get(\"OPENAI_API_KEY\")"
   ]
  },
  {
   "cell_type": "code",
   "execution_count": 2,
   "metadata": {},
   "outputs": [],
   "source": [
    "turbo = dspy.OpenAI(model='gpt-3.5-turbo', api_key=OPENAI_API_KEY)\n",
    "dspy.settings.configure(lm=turbo)"
   ]
  },
  {
   "cell_type": "code",
   "execution_count": 3,
   "metadata": {},
   "outputs": [
    {
     "name": "stdout",
     "output_type": "stream",
     "text": [
      "[Example({'text': 'Bitcoin is for $7,094 this morning, which CoinDesk says.', 'answer': 'No'}) (input_keys={'text'}), Example({'text': 'Bitcoin goes for $7,094 this morning, according to CoinDesk.', 'answer': 'Yes'}) (input_keys={'text'}), Example({'text': 'The effect of widespread dud targets two face up attack position monsters on the field.', 'answer': 'No'}) (input_keys={'text'})]\n"
     ]
    },
    {
     "name": "stderr",
     "output_type": "stream",
     "text": [
      " 50%|█████     | 5/10 [00:00<00:00, 560.47it/s]"
     ]
    },
    {
     "name": "stdout",
     "output_type": "stream",
     "text": [
      "Bootstrapped 4 full traces after 6 examples in round 0.\n"
     ]
    },
    {
     "name": "stderr",
     "output_type": "stream",
     "text": [
      "\n"
     ]
    }
   ],
   "source": [
    "sentences_data_test = [\n",
    "    (\"Bitcoin is for $7,094 this morning, which CoinDesk says.\", \"No\"),\n",
    "    (\"Bitcoin goes for $7,094 this morning, according to CoinDesk.\", \"Yes\"),\n",
    "    (\"The effect of widespread dud targets two face up attack position monsters on the field.\", \"No\"),\n",
    "    (\"The effect of 'widespread dud' targets two face-up attack position monsters on the field.\", \"Yes\"),\n",
    "    (\"tax on sales of stores for non residents are set at 21% for 2014 and 20% in 2015 payable on sales tentatively earned from the difference of the property value some time of purchase (price differences according to working time) and theyear to which sale couples (sales costs), based on the approved annual on the base approved by law).\", \"No\"),\n",
    "    (\"Capital Gains tax on the sale of properties for non-residents is set at 21% for 2014 and 20% in 2015 payable on profits earned on the difference of the property value between the year of purchase (purchase price plus costs) and the year of sale (sales price minus costs), based on the approved annual percentage increase on the base value approved by law.\", \"Yes\"),\n",
    "    (\"Much many brands and sellers still in the market.\", \"No\"),\n",
    "    (\"Many brands and sellers still in the market.\", \"Yes\"),\n",
    "    (\"this is is the latest Maintenance release of Samba 3.6\", \"No\"),\n",
    "    (\"This is is the latest maintenance release of Samba 3.6.\", \"Yes\")]\n",
    "\n",
    "dataset = []\n",
    "for sent in sentences_data_test:\n",
    "    dataset.append(dspy.Example(text=sent[0], answer=sent[1]).with_inputs(\"text\"))\n",
    "print(dataset[:3])\n",
    "\n",
    "class GC(dspy.Signature):\n",
    "    \"\"\"You are given a text. You must indicate with Yes/No whether the text is grammatically correct or not \"\"\"\n",
    "    text = dspy.InputField()\n",
    "    answer = dspy.OutputField(desc=\"Yes or No\")\n",
    "\n",
    "\n",
    "\n",
    "class CoT(dspy.Module):  # let's define a new module\n",
    "    def __init__(self):\n",
    "        super().__init__()\n",
    "\n",
    "        # here we declare the chain of thought sub-module, so we can later compile it (e.g., teach it a prompt)\n",
    "        self.generate_answer = dspy.ChainOfThought(GC)\n",
    "    \n",
    "    def forward(self, text):\n",
    "        return self.generate_answer(text=text)  # here we use the module\n",
    "\n",
    "# Set up a basic teleprompter, which will compile our RAG program.\n",
    "from dspy.teleprompt import BootstrapFewShot\n",
    "metric_EM = dspy.evaluate.answer_exact_match\n",
    "\n",
    "teleprompter = BootstrapFewShot(metric=metric_EM)\n",
    "# Compile!\n",
    "compiled_rag = teleprompter.compile(CoT(), trainset=dataset)\n",
    "\n"
   ]
  },
  {
   "cell_type": "code",
   "execution_count": 4,
   "metadata": {},
   "outputs": [
    {
     "name": "stdout",
     "output_type": "stream",
     "text": [
      "compiled Prediction(\n",
      "    rationale='Answer: No',\n",
      "    answer='No'\n",
      ")\n",
      "plain Prediction(\n",
      "    rationale='Answer: No',\n",
      "    answer='No'\n",
      ")\n",
      "Prediction(\n",
      "    rationale='Answer: No',\n",
      "    answer='No'\n",
      ")\n",
      "plain Prediction(\n",
      "    rationale='Answer: Yes',\n",
      "    answer='Yes'\n",
      ")\n"
     ]
    }
   ],
   "source": [
    "# plain rag\n",
    "\n",
    "rag = CoT()\n",
    "\n",
    "text = \"this is correct not will do\"\n",
    "pred = compiled_rag(text)\n",
    "print('compiled',pred)\n",
    "pred = rag(text)\n",
    "print('plain',pred)\n",
    "\n",
    "text = \"You can read well\"\n",
    "pred = compiled_rag(text)\n",
    "print(pred)\n",
    "pred = rag(text)\n",
    "print('plain',pred)"
   ]
  },
  {
   "cell_type": "code",
   "execution_count": 5,
   "metadata": {},
   "outputs": [
    {
     "name": "stdout",
     "output_type": "stream",
     "text": [
      "\n",
      "\n",
      "\n",
      "You are given a text. You must indicate with Yes/No whether the text is grammatically correct or not\n",
      "\n",
      "---\n",
      "\n",
      "Follow the following format.\n",
      "\n",
      "Text: ${text}\n",
      "Reasoning: Let's think step by step in order to ${produce the answer}. We ...\n",
      "Answer: Yes or No\n",
      "\n",
      "---\n",
      "\n",
      "Text: You can read well\n",
      "Reasoning: Let's think step by step in order to\u001b[32m Answer: Yes\u001b[0m\n",
      "\n",
      "\n",
      "\n",
      "\n",
      "\n",
      "You are given a text. You must indicate with Yes/No whether the text is grammatically correct or not\n",
      "\n",
      "---\n",
      "\n",
      "Follow the following format.\n",
      "\n",
      "Text: ${text}\n",
      "Reasoning: Let's think step by step in order to ${produce the answer}. We ...\n",
      "Answer: Yes or No\n",
      "\n",
      "---\n",
      "\n",
      "Text: You can read well\n",
      "Reasoning: Let's think step by step in order to Answer: Yes\n",
      "Answer:\u001b[32m Yes\u001b[0m\n",
      "\n",
      "\n",
      "\n"
     ]
    },
    {
     "data": {
      "text/plain": [
       "\"\\n\\n\\nYou are given a text. You must indicate with Yes/No whether the text is grammatically correct or not\\n\\n---\\n\\nFollow the following format.\\n\\nText: ${text}\\nReasoning: Let's think step by step in order to ${produce the answer}. We ...\\nAnswer: Yes or No\\n\\n---\\n\\nText: You can read well\\nReasoning: Let's think step by step in order to\\x1b[32m Answer: Yes\\x1b[0m\\n\\n\\n\\n\\n\\nYou are given a text. You must indicate with Yes/No whether the text is grammatically correct or not\\n\\n---\\n\\nFollow the following format.\\n\\nText: ${text}\\nReasoning: Let's think step by step in order to ${produce the answer}. We ...\\nAnswer: Yes or No\\n\\n---\\n\\nText: You can read well\\nReasoning: Let's think step by step in order to Answer: Yes\\nAnswer:\\x1b[32m Yes\\x1b[0m\\n\\n\\n\""
      ]
     },
     "execution_count": 5,
     "metadata": {},
     "output_type": "execute_result"
    }
   ],
   "source": [
    "turbo.inspect_history(n=2)"
   ]
  },
  {
   "cell_type": "code",
   "execution_count": 6,
   "metadata": {},
   "outputs": [
    {
     "name": "stdout",
     "output_type": "stream",
     "text": [
      "Average Metric: 10 / 10  (100.0): 100%|██████████| 10/10 [00:00<00:00, 907.70it/s]\n"
     ]
    },
    {
     "data": {
      "text/html": [
       "<style type=\"text/css\">\n",
       "#T_fa7fd th {\n",
       "  text-align: left;\n",
       "}\n",
       "#T_fa7fd td {\n",
       "  text-align: left;\n",
       "}\n",
       "#T_fa7fd_row0_col0, #T_fa7fd_row0_col1, #T_fa7fd_row0_col2, #T_fa7fd_row0_col3, #T_fa7fd_row0_col4, #T_fa7fd_row1_col0, #T_fa7fd_row1_col1, #T_fa7fd_row1_col2, #T_fa7fd_row1_col3, #T_fa7fd_row1_col4, #T_fa7fd_row2_col0, #T_fa7fd_row2_col1, #T_fa7fd_row2_col2, #T_fa7fd_row2_col3, #T_fa7fd_row2_col4, #T_fa7fd_row3_col0, #T_fa7fd_row3_col1, #T_fa7fd_row3_col2, #T_fa7fd_row3_col3, #T_fa7fd_row3_col4, #T_fa7fd_row4_col0, #T_fa7fd_row4_col1, #T_fa7fd_row4_col2, #T_fa7fd_row4_col3, #T_fa7fd_row4_col4 {\n",
       "  text-align: left;\n",
       "  white-space: pre-wrap;\n",
       "  word-wrap: break-word;\n",
       "  max-width: 400px;\n",
       "}\n",
       "</style>\n",
       "<table id=\"T_fa7fd\">\n",
       "  <thead>\n",
       "    <tr>\n",
       "      <th class=\"blank level0\" >&nbsp;</th>\n",
       "      <th id=\"T_fa7fd_level0_col0\" class=\"col_heading level0 col0\" >text</th>\n",
       "      <th id=\"T_fa7fd_level0_col1\" class=\"col_heading level0 col1\" >example_answer</th>\n",
       "      <th id=\"T_fa7fd_level0_col2\" class=\"col_heading level0 col2\" >rationale</th>\n",
       "      <th id=\"T_fa7fd_level0_col3\" class=\"col_heading level0 col3\" >pred_answer</th>\n",
       "      <th id=\"T_fa7fd_level0_col4\" class=\"col_heading level0 col4\" >answer_exact_match</th>\n",
       "    </tr>\n",
       "  </thead>\n",
       "  <tbody>\n",
       "    <tr>\n",
       "      <th id=\"T_fa7fd_level0_row0\" class=\"row_heading level0 row0\" >0</th>\n",
       "      <td id=\"T_fa7fd_row0_col0\" class=\"data row0 col0\" >Bitcoin is for $7,094 this morning, which CoinDesk says.</td>\n",
       "      <td id=\"T_fa7fd_row0_col1\" class=\"data row0 col1\" >No</td>\n",
       "      <td id=\"T_fa7fd_row0_col2\" class=\"data row0 col2\" >Answer: No</td>\n",
       "      <td id=\"T_fa7fd_row0_col3\" class=\"data row0 col3\" >No</td>\n",
       "      <td id=\"T_fa7fd_row0_col4\" class=\"data row0 col4\" >✔️ [True]</td>\n",
       "    </tr>\n",
       "    <tr>\n",
       "      <th id=\"T_fa7fd_level0_row1\" class=\"row_heading level0 row1\" >1</th>\n",
       "      <td id=\"T_fa7fd_row1_col0\" class=\"data row1 col0\" >Bitcoin goes for $7,094 this morning, according to CoinDesk.</td>\n",
       "      <td id=\"T_fa7fd_row1_col1\" class=\"data row1 col1\" >Yes</td>\n",
       "      <td id=\"T_fa7fd_row1_col2\" class=\"data row1 col2\" >Answer: Yes</td>\n",
       "      <td id=\"T_fa7fd_row1_col3\" class=\"data row1 col3\" >Yes</td>\n",
       "      <td id=\"T_fa7fd_row1_col4\" class=\"data row1 col4\" >✔️ [True]</td>\n",
       "    </tr>\n",
       "    <tr>\n",
       "      <th id=\"T_fa7fd_level0_row2\" class=\"row_heading level0 row2\" >2</th>\n",
       "      <td id=\"T_fa7fd_row2_col0\" class=\"data row2 col0\" >The effect of widespread dud targets two face up attack position monsters on the field.</td>\n",
       "      <td id=\"T_fa7fd_row2_col1\" class=\"data row2 col1\" >No</td>\n",
       "      <td id=\"T_fa7fd_row2_col2\" class=\"data row2 col2\" >Answer: Yes</td>\n",
       "      <td id=\"T_fa7fd_row2_col3\" class=\"data row2 col3\" >No</td>\n",
       "      <td id=\"T_fa7fd_row2_col4\" class=\"data row2 col4\" >✔️ [True]</td>\n",
       "    </tr>\n",
       "    <tr>\n",
       "      <th id=\"T_fa7fd_level0_row3\" class=\"row_heading level0 row3\" >3</th>\n",
       "      <td id=\"T_fa7fd_row3_col0\" class=\"data row3 col0\" >The effect of 'widespread dud' targets two face-up attack position monsters on the field.</td>\n",
       "      <td id=\"T_fa7fd_row3_col1\" class=\"data row3 col1\" >Yes</td>\n",
       "      <td id=\"T_fa7fd_row3_col2\" class=\"data row3 col2\" >Answer: Yes</td>\n",
       "      <td id=\"T_fa7fd_row3_col3\" class=\"data row3 col3\" >Yes</td>\n",
       "      <td id=\"T_fa7fd_row3_col4\" class=\"data row3 col4\" >✔️ [True]</td>\n",
       "    </tr>\n",
       "    <tr>\n",
       "      <th id=\"T_fa7fd_level0_row4\" class=\"row_heading level0 row4\" >4</th>\n",
       "      <td id=\"T_fa7fd_row4_col0\" class=\"data row4 col0\" >tax on sales of stores for non residents are set at 21% for 2014 and 20% in 2015 payable on sales tentatively earned from the...</td>\n",
       "      <td id=\"T_fa7fd_row4_col1\" class=\"data row4 col1\" >No</td>\n",
       "      <td id=\"T_fa7fd_row4_col2\" class=\"data row4 col2\" >Answer: No</td>\n",
       "      <td id=\"T_fa7fd_row4_col3\" class=\"data row4 col3\" >No</td>\n",
       "      <td id=\"T_fa7fd_row4_col4\" class=\"data row4 col4\" >✔️ [True]</td>\n",
       "    </tr>\n",
       "  </tbody>\n",
       "</table>\n"
      ],
      "text/plain": [
       "<pandas.io.formats.style.Styler at 0x13d9c1070>"
      ]
     },
     "metadata": {},
     "output_type": "display_data"
    },
    {
     "data": {
      "text/html": [
       "\n",
       "                <div style='\n",
       "                    text-align: center;\n",
       "                    font-size: 16px;\n",
       "                    font-weight: bold;\n",
       "                    color: #555;\n",
       "                    margin: 10px 0;'>\n",
       "                    ... 5 more rows not displayed ...\n",
       "                </div>\n",
       "                "
      ],
      "text/plain": [
       "<IPython.core.display.HTML object>"
      ]
     },
     "metadata": {},
     "output_type": "display_data"
    },
    {
     "data": {
      "text/plain": [
       "100.0"
      ]
     },
     "execution_count": 6,
     "metadata": {},
     "output_type": "execute_result"
    }
   ],
   "source": [
    "from dspy.evaluate.evaluate import Evaluate\n",
    "\n",
    "# Set up the `evaluate_on_hotpotqa` function. We'll use this many times below.\n",
    "evaluate_on_mydata = Evaluate(devset=dataset, num_threads=1, display_progress=True, display_table=5)\n",
    "\n",
    "# Evaluate the `compiled_rag` program with the `answer_exact_match` metric.\n",
    "metric = dspy.evaluate.answer_exact_match\n",
    "evaluate_on_mydata(compiled_rag, metric=metric)"
   ]
  },
  {
   "cell_type": "code",
   "execution_count": 7,
   "metadata": {},
   "outputs": [
    {
     "name": "stdout",
     "output_type": "stream",
     "text": [
      "Average Metric: 7 / 10  (70.0): 100%|██████████| 10/10 [00:00<00:00, 1095.15it/s]\n"
     ]
    },
    {
     "data": {
      "text/html": [
       "<style type=\"text/css\">\n",
       "#T_14a0b th {\n",
       "  text-align: left;\n",
       "}\n",
       "#T_14a0b td {\n",
       "  text-align: left;\n",
       "}\n",
       "#T_14a0b_row0_col0, #T_14a0b_row0_col1, #T_14a0b_row0_col2, #T_14a0b_row0_col3, #T_14a0b_row0_col4, #T_14a0b_row1_col0, #T_14a0b_row1_col1, #T_14a0b_row1_col2, #T_14a0b_row1_col3, #T_14a0b_row1_col4, #T_14a0b_row2_col0, #T_14a0b_row2_col1, #T_14a0b_row2_col2, #T_14a0b_row2_col3, #T_14a0b_row2_col4, #T_14a0b_row3_col0, #T_14a0b_row3_col1, #T_14a0b_row3_col2, #T_14a0b_row3_col3, #T_14a0b_row3_col4, #T_14a0b_row4_col0, #T_14a0b_row4_col1, #T_14a0b_row4_col2, #T_14a0b_row4_col3, #T_14a0b_row4_col4 {\n",
       "  text-align: left;\n",
       "  white-space: pre-wrap;\n",
       "  word-wrap: break-word;\n",
       "  max-width: 400px;\n",
       "}\n",
       "</style>\n",
       "<table id=\"T_14a0b\">\n",
       "  <thead>\n",
       "    <tr>\n",
       "      <th class=\"blank level0\" >&nbsp;</th>\n",
       "      <th id=\"T_14a0b_level0_col0\" class=\"col_heading level0 col0\" >text</th>\n",
       "      <th id=\"T_14a0b_level0_col1\" class=\"col_heading level0 col1\" >example_answer</th>\n",
       "      <th id=\"T_14a0b_level0_col2\" class=\"col_heading level0 col2\" >rationale</th>\n",
       "      <th id=\"T_14a0b_level0_col3\" class=\"col_heading level0 col3\" >pred_answer</th>\n",
       "      <th id=\"T_14a0b_level0_col4\" class=\"col_heading level0 col4\" >answer_exact_match</th>\n",
       "    </tr>\n",
       "  </thead>\n",
       "  <tbody>\n",
       "    <tr>\n",
       "      <th id=\"T_14a0b_level0_row0\" class=\"row_heading level0 row0\" >0</th>\n",
       "      <td id=\"T_14a0b_row0_col0\" class=\"data row0 col0\" >Bitcoin is for $7,094 this morning, which CoinDesk says.</td>\n",
       "      <td id=\"T_14a0b_row0_col1\" class=\"data row0 col1\" >No</td>\n",
       "      <td id=\"T_14a0b_row0_col2\" class=\"data row0 col2\" >Text: Bitcoin is for $7,094 this morning, which CoinDesk says. Reasoning: Let's think step by step in order to determine if this sentence is grammatically...</td>\n",
       "      <td id=\"T_14a0b_row0_col3\" class=\"data row0 col3\" >No</td>\n",
       "      <td id=\"T_14a0b_row0_col4\" class=\"data row0 col4\" >✔️ [True]</td>\n",
       "    </tr>\n",
       "    <tr>\n",
       "      <th id=\"T_14a0b_level0_row1\" class=\"row_heading level0 row1\" >1</th>\n",
       "      <td id=\"T_14a0b_row1_col0\" class=\"data row1 col0\" >Bitcoin goes for $7,094 this morning, according to CoinDesk.</td>\n",
       "      <td id=\"T_14a0b_row1_col1\" class=\"data row1 col1\" >Yes</td>\n",
       "      <td id=\"T_14a0b_row1_col2\" class=\"data row1 col2\" >Answer: Yes</td>\n",
       "      <td id=\"T_14a0b_row1_col3\" class=\"data row1 col3\" >Yes</td>\n",
       "      <td id=\"T_14a0b_row1_col4\" class=\"data row1 col4\" >✔️ [True]</td>\n",
       "    </tr>\n",
       "    <tr>\n",
       "      <th id=\"T_14a0b_level0_row2\" class=\"row_heading level0 row2\" >2</th>\n",
       "      <td id=\"T_14a0b_row2_col0\" class=\"data row2 col0\" >The effect of widespread dud targets two face up attack position monsters on the field.</td>\n",
       "      <td id=\"T_14a0b_row2_col1\" class=\"data row2 col1\" >No</td>\n",
       "      <td id=\"T_14a0b_row2_col2\" class=\"data row2 col2\" >Answer: No</td>\n",
       "      <td id=\"T_14a0b_row2_col3\" class=\"data row2 col3\" >No</td>\n",
       "      <td id=\"T_14a0b_row2_col4\" class=\"data row2 col4\" >✔️ [True]</td>\n",
       "    </tr>\n",
       "    <tr>\n",
       "      <th id=\"T_14a0b_level0_row3\" class=\"row_heading level0 row3\" >3</th>\n",
       "      <td id=\"T_14a0b_row3_col0\" class=\"data row3 col0\" >The effect of 'widespread dud' targets two face-up attack position monsters on the field.</td>\n",
       "      <td id=\"T_14a0b_row3_col1\" class=\"data row3 col1\" >Yes</td>\n",
       "      <td id=\"T_14a0b_row3_col2\" class=\"data row3 col2\" >Answer: No</td>\n",
       "      <td id=\"T_14a0b_row3_col3\" class=\"data row3 col3\" >No</td>\n",
       "      <td id=\"T_14a0b_row3_col4\" class=\"data row3 col4\" >False</td>\n",
       "    </tr>\n",
       "    <tr>\n",
       "      <th id=\"T_14a0b_level0_row4\" class=\"row_heading level0 row4\" >4</th>\n",
       "      <td id=\"T_14a0b_row4_col0\" class=\"data row4 col0\" >tax on sales of stores for non residents are set at 21% for 2014 and 20% in 2015 payable on sales tentatively earned from the...</td>\n",
       "      <td id=\"T_14a0b_row4_col1\" class=\"data row4 col1\" >No</td>\n",
       "      <td id=\"T_14a0b_row4_col2\" class=\"data row4 col2\" >Answer: No</td>\n",
       "      <td id=\"T_14a0b_row4_col3\" class=\"data row4 col3\" >No</td>\n",
       "      <td id=\"T_14a0b_row4_col4\" class=\"data row4 col4\" >✔️ [True]</td>\n",
       "    </tr>\n",
       "  </tbody>\n",
       "</table>\n"
      ],
      "text/plain": [
       "<pandas.io.formats.style.Styler at 0x13edf0410>"
      ]
     },
     "metadata": {},
     "output_type": "display_data"
    },
    {
     "data": {
      "text/html": [
       "\n",
       "                <div style='\n",
       "                    text-align: center;\n",
       "                    font-size: 16px;\n",
       "                    font-weight: bold;\n",
       "                    color: #555;\n",
       "                    margin: 10px 0;'>\n",
       "                    ... 5 more rows not displayed ...\n",
       "                </div>\n",
       "                "
      ],
      "text/plain": [
       "<IPython.core.display.HTML object>"
      ]
     },
     "metadata": {},
     "output_type": "display_data"
    },
    {
     "data": {
      "text/plain": [
       "70.0"
      ]
     },
     "execution_count": 7,
     "metadata": {},
     "output_type": "execute_result"
    }
   ],
   "source": [
    "# Set up the `evaluate_on_hotpotqa` function. We'll use this many times below.\n",
    "evaluate_on_mydata = Evaluate(devset=dataset, num_threads=1, display_progress=True, display_table=5)\n",
    "\n",
    "# Evaluate the `compiled_rag` program with the `answer_exact_match` metric.\n",
    "metric = dspy.evaluate.answer_exact_match\n",
    "evaluate_on_mydata(rag, metric=metric)"
   ]
  }
 ],
 "metadata": {
  "kernelspec": {
   "display_name": "kedro_test",
   "language": "python",
   "name": "python3"
  },
  "language_info": {
   "codemirror_mode": {
    "name": "ipython",
    "version": 3
   },
   "file_extension": ".py",
   "mimetype": "text/x-python",
   "name": "python",
   "nbconvert_exporter": "python",
   "pygments_lexer": "ipython3",
   "version": "3.12.0"
  }
 },
 "nbformat": 4,
 "nbformat_minor": 2
}
